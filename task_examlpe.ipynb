{
 "cells": [
  {
   "cell_type": "code",
   "execution_count": 1,
   "metadata": {},
   "outputs": [],
   "source": [
    "import time\n",
    "import future\n",
    "from future import Future\n",
    "from future import ThreadedExecutor\n",
    "\n",
    "import task\n",
    "from task import Task"
   ]
  },
  {
   "cell_type": "markdown",
   "metadata": {},
   "source": [
    "What we want is not to keep polling futures done method or get blocked while calling\n",
    "the result method. Neither do we want the callback based approach in our code.\n",
    "We want to make the code look as much synchronous as possible.\n",
    "\n",
    "Something like below...."
   ]
  },
  {
   "cell_type": "code",
   "execution_count": 2,
   "metadata": {},
   "outputs": [],
   "source": [
    "def my_long_running_task(work_load=2):\n",
    "    print (\"Work started\")\n",
    "    time.sleep(work_load)\n",
    "    print (\"Done work_load\")\n",
    "    #Calculated result after so much effort\n",
    "    return 42"
   ]
  },
  {
   "cell_type": "code",
   "execution_count": 3,
   "metadata": {},
   "outputs": [],
   "source": [
    "def perform_async_task():\n",
    "    result = yield ThreadedExecutor().submit(my_long_running_task)\n",
    "    print (\"Gotcha {}\".format(result))"
   ]
  },
  {
   "cell_type": "code",
   "execution_count": 5,
   "metadata": {},
   "outputs": [
    {
     "name": "stdout",
     "output_type": "stream",
     "text": [
      "Work started\n",
      "Done work_load\n",
      "Gotcha 42\n",
      "ERROR: name 'e' is not defined\n"
     ]
    }
   ],
   "source": [
    "t = Task(perform_async_task())\n",
    "t.step()"
   ]
  },
  {
   "cell_type": "code",
   "execution_count": null,
   "metadata": {},
   "outputs": [],
   "source": []
  }
 ],
 "metadata": {
  "kernelspec": {
   "display_name": "Python 3",
   "language": "python",
   "name": "python3"
  },
  "language_info": {
   "codemirror_mode": {
    "name": "ipython",
    "version": 3
   },
   "file_extension": ".py",
   "mimetype": "text/x-python",
   "name": "python",
   "nbconvert_exporter": "python",
   "pygments_lexer": "ipython3",
   "version": "3.4.3"
  }
 },
 "nbformat": 4,
 "nbformat_minor": 2
}
