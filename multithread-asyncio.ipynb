{
 "cells": [
  {
   "cell_type": "code",
   "execution_count": 8,
   "metadata": {
    "collapsed": true
   },
   "outputs": [],
   "source": [
    "import asyncio\n",
    "from threading import Thread"
   ]
  },
  {
   "cell_type": "code",
   "execution_count": 9,
   "metadata": {
    "collapsed": true
   },
   "outputs": [],
   "source": [
    "class Session(object):\n",
    "    \"\"\"\n",
    "    \"\"\"\n",
    "    def __init__(self):\n",
    "        \"\"\"\n",
    "        \"\"\"\n",
    "        self.loop = asyncio.get_event_loop()\n",
    "    \n",
    "    def process(self):\n",
    "        \"\"\"\n",
    "        \"\"\"\n",
    "        async def long_task():\n",
    "            await asyncio.sleep(3, loop=self.loop)\n",
    "            print (\"Long task done\")\n",
    "            \n",
    "        self.loop.run_until_complete(long_task())"
   ]
  },
  {
   "cell_type": "code",
   "execution_count": 10,
   "metadata": {
    "collapsed": true
   },
   "outputs": [],
   "source": [
    "def work1(session):\n",
    "    session.loop = asyncio.new_event_loop()\n",
    "    session.process()\n",
    "    print (\"Work1 Done\")\n",
    "    \n",
    "def work2(session):\n",
    "    session.loop = asyncio.new_event_loop()\n",
    "    session.process()\n",
    "    print (\"Work2 Done\")"
   ]
  },
  {
   "cell_type": "code",
   "execution_count": 14,
   "metadata": {
    "collapsed": true
   },
   "outputs": [],
   "source": [
    "def parallel_process(session):\n",
    "    tasks = [work1, work2]\n",
    "    threads = []\n",
    "    for task in tasks:\n",
    "        threads.append(Thread(target=task, args=(session,)))\n",
    "        threads[-1].start()\n",
    "    \n",
    "    for t in threads:\n",
    "        t.join()"
   ]
  },
  {
   "cell_type": "code",
   "execution_count": 16,
   "metadata": {},
   "outputs": [
    {
     "name": "stdout",
     "output_type": "stream",
     "text": [
      "Long task done\n",
      "Long task doneWork1 Done\n",
      "\n",
      "Work2 Done\n"
     ]
    }
   ],
   "source": [
    "if __name__ == \"__main__\":\n",
    "    s = Session()\n",
    "    parallel_process(s)"
   ]
  },
  {
   "cell_type": "code",
   "execution_count": null,
   "metadata": {
    "collapsed": true
   },
   "outputs": [],
   "source": []
  }
 ],
 "metadata": {
  "kernelspec": {
   "display_name": "Python 3",
   "language": "python",
   "name": "python3"
  },
  "language_info": {
   "codemirror_mode": {
    "name": "ipython",
    "version": 3
   },
   "file_extension": ".py",
   "mimetype": "text/x-python",
   "name": "python",
   "nbconvert_exporter": "python",
   "pygments_lexer": "ipython3",
   "version": "3.6.3"
  }
 },
 "nbformat": 4,
 "nbformat_minor": 2
}
