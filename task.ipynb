{
 "cells": [
  {
   "cell_type": "code",
   "execution_count": 1,
   "metadata": {},
   "outputs": [],
   "source": [
    "import future\n",
    "from future import Future"
   ]
  },
  {
   "cell_type": "code",
   "execution_count": 3,
   "metadata": {},
   "outputs": [],
   "source": [
    "class Task(object):\n",
    "    \"\"\"\n",
    "    Wraps a generator yielding a Future\n",
    "    object and abstracts away the handling of future API\n",
    "    \"\"\"\n",
    "    def __init__(self, gen):\n",
    "        self.gen = gen\n",
    "    \n",
    "    def step(self, snd_val=None, exp=None):\n",
    "        \"\"\"\"\"\"\n",
    "        try:\n",
    "            if exp:\n",
    "                self.gen.throw(exp)\n",
    "            else:\n",
    "                fut = self.gen.send(snd_val)\n",
    "                fut.add_done_callback(self._fut_done_cb)\n",
    "                \n",
    "        except StopIteration:\n",
    "            pass\n",
    "        \n",
    "    def _fut_done_cb(self, fut):\n",
    "        try:\n",
    "            result = fut.result()\n",
    "            self.step(result, None)\n",
    "        except Exception as e:\n",
    "            self.step(None, e)\n",
    "        pass"
   ]
  }
 ],
 "metadata": {
  "kernelspec": {
   "display_name": "Python 3",
   "language": "python",
   "name": "python3"
  },
  "language_info": {
   "codemirror_mode": {
    "name": "ipython",
    "version": 3
   },
   "file_extension": ".py",
   "mimetype": "text/x-python",
   "name": "python",
   "nbconvert_exporter": "python",
   "pygments_lexer": "ipython3",
   "version": "3.4.3"
  }
 },
 "nbformat": 4,
 "nbformat_minor": 2
}
