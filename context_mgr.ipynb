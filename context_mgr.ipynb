{
 "cells": [
  {
   "cell_type": "code",
   "execution_count": 3,
   "metadata": {},
   "outputs": [],
   "source": [
    "class GenContextManager(object):\n",
    "    def __init__(self, func_gen, *args, **kwargs):\n",
    "        self.gen = func_gen(*args, **kwargs)\n",
    "        \n",
    "    def __enter__(self):\n",
    "        try:\n",
    "            v = next(self.gen)\n",
    "            return v\n",
    "        except StopIteration:\n",
    "            return\n",
    "        else:\n",
    "            raise RuntimeError(\"Generator threw exception on yield\")\n",
    "        return\n",
    "    \n",
    "    def __exit__(self, type, value, traceback):\n",
    "        if type is None:\n",
    "            try:\n",
    "                next(self.gen)\n",
    "            except StopIteration:\n",
    "                return\n",
    "            else:\n",
    "                raise RuntimeError(\"Generator failed to terminate\")\n",
    "        else:\n",
    "            if value is None:\n",
    "                value = type()\n",
    "            #This is not enough...\n",
    "            #Few more exceptions to be handled\n",
    "            self.gen.throw(type, value, traceback)\n",
    "            \n",
    "        pass\n",
    "    "
   ]
  },
  {
   "cell_type": "code",
   "execution_count": 4,
   "metadata": {},
   "outputs": [],
   "source": [
    "def file_op_ctx(file_op_gen_func):\n",
    "    def inner(*args, **kwargs):\n",
    "        return GenContextManager(file_op_gen_func, *args, **kwargs)\n",
    "    \n",
    "    return inner"
   ]
  },
  {
   "cell_type": "code",
   "execution_count": 8,
   "metadata": {},
   "outputs": [],
   "source": [
    "@file_op_ctx\n",
    "def file_op(file_path):\n",
    "    fd =  open(file_path, 'w')\n",
    "    yield fd\n",
    "    print (\"Closing file\")\n",
    "    fd.close()"
   ]
  },
  {
   "cell_type": "code",
   "execution_count": 9,
   "metadata": {},
   "outputs": [
    {
     "name": "stdout",
     "output_type": "stream",
     "text": [
      "huh??\n",
      "Closing file\n"
     ]
    }
   ],
   "source": [
    "with file_op(\"test.txt\") as fd:\n",
    "    print (\"huh??\")"
   ]
  },
  {
   "cell_type": "code",
   "execution_count": null,
   "metadata": {},
   "outputs": [],
   "source": []
  }
 ],
 "metadata": {
  "kernelspec": {
   "display_name": "Python 3",
   "language": "python",
   "name": "python3"
  },
  "language_info": {
   "codemirror_mode": {
    "name": "ipython",
    "version": 3
   },
   "file_extension": ".py",
   "mimetype": "text/x-python",
   "name": "python",
   "nbconvert_exporter": "python",
   "pygments_lexer": "ipython3",
   "version": "3.4.3"
  }
 },
 "nbformat": 4,
 "nbformat_minor": 2
}
