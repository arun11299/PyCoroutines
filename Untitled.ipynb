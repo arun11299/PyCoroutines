{
 "cells": [
  {
   "cell_type": "markdown",
   "metadata": {},
   "source": [
    "A better or slightly more useful example for demonstrating the usecase of using generators."
   ]
  },
  {
   "cell_type": "code",
   "execution_count": null,
   "metadata": {},
   "outputs": [],
   "source": [
    "def fetch_results_from_db():\n",
    "    instance = MyDBDriver.get_correct_instance()\n",
    "    \n",
    "    if not instance.connected():\n",
    "        instance.connect()\n",
    "    \n",
    "    while True:\n",
    "        rows = yield instance\n",
    "        # Do something with the rows\n",
    "        ..."
   ]
  },
  {
   "cell_type": "code",
   "execution_count": null,
   "metadata": {},
   "outputs": [],
   "source": [
    "class DDBResultFetcher(object):\n",
    "    def __init__(self, rows_cb):\n",
    "        self.instance = None\n",
    "        self.is_connected = False\n",
    "        self._cb = rows_cb\n",
    "    \n",
    "    def connect(self):\n",
    "        if not self.instance:\n",
    "            instance = MyDBDriver.get_correct_instance()\n",
    "        \n",
    "        if self.connected:\n",
    "            return\n",
    "        \n",
    "        self.instance.connect()\n",
    "        self.is_connected = True\n",
    "    \n",
    "    @property\n",
    "    def connected(self):\n",
    "        return is_connected\n",
    "    \n",
    "    def on_rows_cb(self, rows):\n",
    "        self._cb(rows)\n",
    "    \n",
    "if __name__ == \"__main__\":\n",
    "    \n",
    "    def manage_rows(rows):\n",
    "        for row in rows:\n",
    "            #Do something with the rows\n",
    "            ....\n",
    "            \n",
    "    db_f = DDBResultFetcher(manage_rows)\n",
    "    db_f.connect()\n",
    "    \n",
    "    db_f.run()\n",
    "    \n",
    "    ##Additional code to check if the results have been completely fetched\n",
    "    ##or not\n",
    "    ......\n",
    "    "
   ]
  }
 ],
 "metadata": {
  "kernelspec": {
   "display_name": "Python 3",
   "language": "python",
   "name": "python3"
  },
  "language_info": {
   "codemirror_mode": {
    "name": "ipython",
    "version": 3
   },
   "file_extension": ".py",
   "mimetype": "text/x-python",
   "name": "python",
   "nbconvert_exporter": "python",
   "pygments_lexer": "ipython3",
   "version": "3.4.3"
  }
 },
 "nbformat": 4,
 "nbformat_minor": 2
}
