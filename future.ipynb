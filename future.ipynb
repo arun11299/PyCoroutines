{
 "cells": [
  {
   "cell_type": "code",
   "execution_count": 11,
   "metadata": {},
   "outputs": [],
   "source": [
    "import threading\n",
    "import time"
   ]
  },
  {
   "cell_type": "markdown",
   "metadata": {},
   "source": [
    "Future states:\n",
    "\n",
    "An instance of the future could be in any of these states.\n",
    "1. PENDING : The future does not have the result/exception for the corresponding work.\n",
    "2. RUNNING : TBD\n",
    "3. CANCELLED : The future got cancelled before the result of the associated work was computed.\n",
    "4. FINISHED : The associated work got finished and resulted in giving out a value or exception."
   ]
  },
  {
   "cell_type": "code",
   "execution_count": 12,
   "metadata": {},
   "outputs": [],
   "source": [
    "\n",
    "PENDING   = 'pending'\n",
    "RUNNING   = 'running'\n",
    "CANCELLED = 'cancelled'\n",
    "FINISHED  = 'finished'\n",
    "\n",
    "FUTURE_STATES = [\n",
    "    PENDING,\n",
    "    RUNNING,\n",
    "    CANCELLED,\n",
    "    FINISHED\n",
    "]"
   ]
  },
  {
   "cell_type": "code",
   "execution_count": 13,
   "metadata": {},
   "outputs": [],
   "source": [
    "class FutureCancelledError(Exception):\n",
    "    \"\"\"\"\"\"\n",
    "    def __init__(self):\n",
    "        pass\n",
    "\n",
    "\n",
    "class FutureTimeoutError(Exception):\n",
    "    \"\"\"\"\"\"\n",
    "    def __init__(self):\n",
    "        pass\n",
    "        "
   ]
  },
  {
   "cell_type": "code",
   "execution_count": 14,
   "metadata": {},
   "outputs": [],
   "source": [
    "class Future(object):\n",
    "    def __init__(self):\n",
    "        \"\"\"\"\"\"\n",
    "        self._state = PENDING\n",
    "        self._condition = threading.Condition()\n",
    "        self._done_callbacks = []\n",
    "        \n",
    "        self._result = None\n",
    "        self._exception = None\n",
    "    \n",
    "    def add_done_callback(self, cb):\n",
    "        \"\"\"\n",
    "        Add the callback to be executed when the future state becomes \n",
    "        cancelled/finished\n",
    "        \"\"\"\n",
    "        self._done_callbacks.append(cb)\n",
    "    \n",
    "    \n",
    "    def result(self, timeout=None):\n",
    "        \"\"\"\n",
    "        Blocking call on the calling thread.\n",
    "        \n",
    "        timeout: time to wait for the result to be ready.\n",
    "        \n",
    "        Throws:\n",
    "        FutureCancelledError if the state of future was CANCELLED\n",
    "        or became CANCELLED later.\n",
    "        \n",
    "        FutureTimeoutError if future did not become ready before\n",
    "        the timeout.\n",
    "        \"\"\"\n",
    "        with self._condition:\n",
    "            if self._state in [CANCELLED]:\n",
    "                raise FutureCancelledError()\n",
    "            \n",
    "            if self._state == FINISHED:\n",
    "                # Already done, return the result\n",
    "                return self._result\n",
    "            \n",
    "            self._condition.wait(timeout)\n",
    "            \n",
    "            if self._state in [CANCELLED]:\n",
    "                raise FutureCancelledError()\n",
    "            \n",
    "            if self._state == FINISHED:\n",
    "                return self._result\n",
    "            else:\n",
    "                return FutureTimeoutError()\n",
    "        pass\n",
    "        \n",
    "    def exception(self, timeout=None):\n",
    "        \"\"\"\n",
    "        Blocking call on the calling thread.\n",
    "        \"\"\"\n",
    "        with self._condition:\n",
    "            if self._state in [CANCELLED]:\n",
    "                raise FutureCancelledError()\n",
    "            \n",
    "            if self._state == FINISHED:\n",
    "                #Already done. Return the exception\n",
    "                return self._exception\n",
    "            \n",
    "            self._condition.wait(timeout)\n",
    "            \n",
    "            if self._state in [CANCELLED]:\n",
    "                raise FutureCancelledError()\n",
    "            \n",
    "            if self._state == FINISHED:\n",
    "                return self._exception\n",
    "            else:\n",
    "                raise FutureTimeoutError()\n",
    "            \n",
    "             \n",
    "    def done(self):\n",
    "        \"\"\"Future is finished\"\"\"\n",
    "        with self._condition:\n",
    "            return self._state in [CANCELLED, FINISHED]\n",
    "        \n",
    "    def cancelled(self):\n",
    "        \"\"\" Is the future cancelled or not\"\"\"\n",
    "        with self._condition:\n",
    "            return self._state == CANCELLED\n",
    "    \n",
    "    def cancel(self):\n",
    "        \"\"\"Cancel the future if not already finished or running\"\"\"\n",
    "        with self._condition:\n",
    "            if self._state in [RUNNING, FINISHED]:\n",
    "                return False\n",
    "            self._set_state(CANCELLED)\n",
    "            \n",
    "            self._condition.notify_all()\n",
    "        \n",
    "        self._execute_done_callbacks()\n",
    "        return True\n",
    "        \n",
    "    def set_result(self, result):\n",
    "        \"\"\"\n",
    "        Sets the result of the work associated with this future.\n",
    "        \"\"\"\n",
    "        with self._condition:\n",
    "            self._result = result\n",
    "            self._state = FINISHED\n",
    "            \n",
    "            self._condition.notify_all()\n",
    "        \n",
    "        self._execute_done_callbacks()\n",
    "            \n",
    "        \n",
    "    def set_exception(self, exp):\n",
    "        \"\"\"\n",
    "        Sets the exception that occurred while performing\n",
    "        the work associated with this future.\n",
    "        \"\"\"\n",
    "        with self._condition:\n",
    "            self._exception = exp\n",
    "            self._state = FINISHED\n",
    "            \n",
    "            self._condition.notify_all()\n",
    "        \n",
    "        self._execute_done_callbacks()\n",
    "    \n",
    "    def _set_state(self, state):\n",
    "        \"\"\"\n",
    "        Sets the state.\n",
    "        Assumes that lock is taken\n",
    "        \"\"\"\n",
    "        self._state = state\n",
    "        \n",
    "    def _execute_done_callbacks(self):\n",
    "        for cb in self._done_callbacks:\n",
    "            try:\n",
    "                cb(self)\n",
    "            except Exception as e:\n",
    "                print (\"ERROR: {}\".format(str(e)))"
   ]
  },
  {
   "cell_type": "markdown",
   "metadata": {},
   "source": [
    "Lets write some tests to check our future in action"
   ]
  },
  {
   "cell_type": "code",
   "execution_count": 15,
   "metadata": {},
   "outputs": [],
   "source": [
    "def bg_task():\n",
    "    print (\"Background task started\")\n",
    "    time.sleep(10)\n",
    "    print (\"Background task finished\")\n",
    "    return 42"
   ]
  },
  {
   "cell_type": "code",
   "execution_count": 16,
   "metadata": {},
   "outputs": [],
   "source": [
    "class ThreadedExecutor(object):\n",
    "    def __init__(self):\n",
    "        self._thread = threading.Thread(target=self._runner)\n",
    "    \n",
    "    def submit(self, task):\n",
    "        \"\"\"\"\"\"\n",
    "        f = Future()\n",
    "        t = threading.Thread(target=self._runner, args=(f,task,))\n",
    "        t.start()\n",
    "        return f\n",
    "        \n",
    "    def _runner(self, fut, task):\n",
    "        v = task()\n",
    "        fut.set_result(v)\n",
    "        pass"
   ]
  },
  {
   "cell_type": "code",
   "execution_count": 17,
   "metadata": {},
   "outputs": [
    {
     "name": "stdout",
     "output_type": "stream",
     "text": [
      "Background task started\n",
      "Background task finished\n"
     ]
    },
    {
     "data": {
      "text/plain": [
       "42"
      ]
     },
     "execution_count": 17,
     "metadata": {},
     "output_type": "execute_result"
    }
   ],
   "source": [
    "if __name_ == \"__main__\":\n",
    "    f = ThreadedExecutor().submit(bg_task)\n",
    "    f.result()"
   ]
  },
  {
   "cell_type": "code",
   "execution_count": null,
   "metadata": {},
   "outputs": [],
   "source": []
  }
 ],
 "metadata": {
  "kernelspec": {
   "display_name": "Python 3",
   "language": "python",
   "name": "python3"
  },
  "language_info": {
   "codemirror_mode": {
    "name": "ipython",
    "version": 3
   },
   "file_extension": ".py",
   "mimetype": "text/x-python",
   "name": "python",
   "nbconvert_exporter": "python",
   "pygments_lexer": "ipython3",
   "version": "3.4.3"
  }
 },
 "nbformat": 4,
 "nbformat_minor": 2
}
