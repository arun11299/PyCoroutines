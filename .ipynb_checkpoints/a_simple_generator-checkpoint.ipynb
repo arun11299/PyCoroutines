{
 "cells": [
  {
   "cell_type": "code",
   "execution_count": 7,
   "metadata": {},
   "outputs": [],
   "source": [
    "def my_gen():\n",
    "    val = yield \"hello, world!\"\n",
    "    return val"
   ]
  },
  {
   "cell_type": "code",
   "execution_count": 6,
   "metadata": {},
   "outputs": [
    {
     "name": "stdout",
     "output_type": "stream",
     "text": [
      "my_gen yielded result: hello, world!\n",
      "my_gen generator function returned: None\n"
     ]
    }
   ],
   "source": [
    "g = my_gen()\n",
    "res = next(g)\n",
    "print (\"my_gen yielded result: {}\".format(res))\n",
    "\n",
    "try:\n",
    "    next(g)\n",
    "except StopIteration as e:\n",
    "    print (\"my_gen generator function returned: {}\".format(e.value))"
   ]
  },
  {
   "cell_type": "markdown",
   "metadata": {},
   "source": [
    "Things to note:\n",
    "a. The value yielded is not the one assigned.\n",
    "   i.e. in the function my_gen val is not assigned the value yielded which is \"hello, world!\"\n",
    "b. The return value of the generator function is in the value field of StopIteration exception.\n"
   ]
  },
  {
   "cell_type": "markdown",
   "metadata": {},
   "source": [
    "We know that a generator is iterable and python provides a way to simplify calling generator functions in the\n",
    "form of for-in"
   ]
  },
  {
   "cell_type": "code",
   "execution_count": 4,
   "metadata": {},
   "outputs": [
    {
     "name": "stdout",
     "output_type": "stream",
     "text": [
      "hello, world!\n"
     ]
    }
   ],
   "source": [
    "g = my_gen()\n",
    "for v in g:\n",
    "    print (v)"
   ]
  },
  {
   "cell_type": "markdown",
   "metadata": {},
   "source": [
    "^^^ No return value is printed only the yielded value."
   ]
  },
  {
   "cell_type": "markdown",
   "metadata": {},
   "source": [
    "So, what is happening ? Why the yielded value is not assigned to the 'val' variable ?\n",
    "Well, that is because this simple generator is a co-routine as well. Thanks to PEP-342.\n",
    "The client code having the generator is basically in control of this generator function.\n",
    "\n",
    "It's the client code which can receive the \"yielded\" value and its also the client code which can \"send\"\n",
    "a value to the generator using the \"send\" member function. The value sent using this \"sent\" function would get assigned as shown below:"
   ]
  },
  {
   "cell_type": "code",
   "execution_count": 8,
   "metadata": {},
   "outputs": [
    {
     "name": "stdout",
     "output_type": "stream",
     "text": [
      "my_gen returned: 42\n"
     ]
    }
   ],
   "source": [
    "g = my_gen()\n",
    "next(g) # Yields \"hello, world!\"\n",
    "try:\n",
    "    g.send(42) # Sends in a value 42 which gets assigned to val and does next(g)\n",
    "except StopIteration as e:\n",
    "    print (\"my_gen returned: {}\".format(e.value))"
   ]
  },
  {
   "cell_type": "markdown",
   "metadata": {},
   "source": [
    "So one can think of generators as something which can be completely controlled by an external client.\n",
    "The client can basically be a scheduler."
   ]
  }
 ],
 "metadata": {
  "kernelspec": {
   "display_name": "Python 3",
   "language": "python",
   "name": "python3"
  },
  "language_info": {
   "codemirror_mode": {
    "name": "ipython",
    "version": 3
   },
   "file_extension": ".py",
   "mimetype": "text/x-python",
   "name": "python",
   "nbconvert_exporter": "python",
   "pygments_lexer": "ipython3",
   "version": "3.4.3"
  }
 },
 "nbformat": 4,
 "nbformat_minor": 2
}
