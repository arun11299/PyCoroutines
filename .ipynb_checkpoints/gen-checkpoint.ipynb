{
 "cells": [
  {
   "cell_type": "markdown",
   "metadata": {},
   "source": [
    "See task_example.py on how to use the above Task with generators\n",
    "to give simpler asynchronous programs.\n",
    "But that was bit unwieldy. The user is expected to create a task object\n",
    "and call step method.\n",
    "\n",
    "We can do better in python with the help of decorators."
   ]
  },
  {
   "cell_type": "code",
   "execution_count": null,
   "metadata": {},
   "outputs": [],
   "source": [
    "import task\n",
    "from task import Task"
   ]
  },
  {
   "cell_type": "code",
   "execution_count": null,
   "metadata": {},
   "outputs": [],
   "source": [
    "def async_helper(func):\n",
    "    def inner(*args, **kwargs):\n",
    "        g = func(*args, **kwargs)\n",
    "        t = Task(g)\n",
    "        t.step()\n",
    "        \n",
    "    return inner"
   ]
  },
  {
   "cell_type": "markdown",
   "metadata": {},
   "source": [
    "We want to make it work something like below:\n",
    "    \n",
    "    @gen.async_helper\n",
    "    def my_async_func():\n",
    "        def my_long_func():\n",
    "            time.sleep(2)\n",
    "            return 42\n",
    "        \n",
    "        result = yield ThreadedExecutor().submit(my_long_func)\n",
    "        return result\n",
    "    \n",
    "    if __name__ == \"__main__\":\n",
    "        res = yield my_async_func()\n",
    "        print (\"Gotcha {}\".format(res))"
   ]
  }
 ],
 "metadata": {
  "kernelspec": {
   "display_name": "Python 3",
   "language": "python",
   "name": "python3"
  },
  "language_info": {
   "codemirror_mode": {
    "name": "ipython",
    "version": 3
   },
   "file_extension": ".py",
   "mimetype": "text/x-python",
   "name": "python",
   "nbconvert_exporter": "python",
   "pygments_lexer": "ipython3",
   "version": "3.4.3"
  }
 },
 "nbformat": 4,
 "nbformat_minor": 2
}
